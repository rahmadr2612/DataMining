{
  "nbformat": 4,
  "nbformat_minor": 0,
  "metadata": {
    "colab": {
      "name": "preprocessing.ipynb",
      "provenance": [],
      "authorship_tag": "ABX9TyO4i02NE8zH5y1Rnti3nha+",
      "include_colab_link": true
    },
    "kernelspec": {
      "name": "python3",
      "display_name": "Python 3"
    },
    "language_info": {
      "name": "python"
    }
  },
  "cells": [
    {
      "cell_type": "markdown",
      "metadata": {
        "id": "view-in-github",
        "colab_type": "text"
      },
      "source": [
        "<a href=\"https://colab.research.google.com/github/rahmadr2612/DataMining/blob/main/preprocessing.ipynb\" target=\"_parent\"><img src=\"https://colab.research.google.com/assets/colab-badge.svg\" alt=\"Open In Colab\"/></a>"
      ]
    },
    {
      "cell_type": "code",
      "source": [
        "import numpy as np\n",
        "import matplotlib.pyplot as plt\n",
        "import pandas as pd"
      ],
      "metadata": {
        "id": "OdDBdNl27Tf_"
      },
      "execution_count": null,
      "outputs": []
    },
    {
      "cell_type": "code",
      "source": [
        "dataset = pd.read_csv('Data.csv')\n",
        "x = dataset.iloc[:, :-1]\n",
        "y = dataset.iloc[:, -1]"
      ],
      "metadata": {
        "id": "QF92rNou7aJ8"
      },
      "execution_count": null,
      "outputs": []
    },
    {
      "cell_type": "code",
      "source": [
        "print(x)"
      ],
      "metadata": {
        "colab": {
          "base_uri": "https://localhost:8080/"
        },
        "id": "7FTqIVji7vzr",
        "outputId": "7971fa36-2e82-4cc0-b4dd-2d96d74b96b4"
      },
      "execution_count": null,
      "outputs": [
        {
          "output_type": "stream",
          "name": "stdout",
          "text": [
            "   Country   Age   Salary\n",
            "0   France  44.0  72000.0\n",
            "1    Spain  27.0  48000.0\n",
            "2  Germany  30.0  54000.0\n",
            "3    Spain  38.0  61000.0\n",
            "4  Germany  40.0      NaN\n",
            "5   France  35.0  58000.0\n",
            "6    Spain   NaN  52000.0\n",
            "7   France  48.0  79000.0\n",
            "8  Germany  50.0  83000.0\n",
            "9   France  37.0  67000.0\n"
          ]
        }
      ]
    },
    {
      "cell_type": "code",
      "source": [
        "print(y)"
      ],
      "metadata": {
        "colab": {
          "base_uri": "https://localhost:8080/"
        },
        "id": "9FGhVSue7xKd",
        "outputId": "6b8c1f5a-aa4f-4026-fed0-88869850ada5"
      },
      "execution_count": null,
      "outputs": [
        {
          "output_type": "stream",
          "name": "stdout",
          "text": [
            "0     No\n",
            "1    Yes\n",
            "2     No\n",
            "3     No\n",
            "4    Yes\n",
            "5    Yes\n",
            "6     No\n",
            "7    Yes\n",
            "8     No\n",
            "9    Yes\n",
            "Name: Purchased, dtype: object\n"
          ]
        }
      ]
    },
    {
      "cell_type": "code",
      "source": [
        "from sklearn.impute import SimpleImputer\n",
        "imputer = SimpleImputer(missing_values=np.nan, strategy='mean')\n",
        "imputer.fit(x.iloc[:, 1:3])\n",
        "x.iloc[:, 1:3] = imputer.transform(x.iloc[:, 1:3])"
      ],
      "metadata": {
        "id": "HlrxP2-8_enq"
      },
      "execution_count": null,
      "outputs": []
    },
    {
      "cell_type": "code",
      "source": [
        "print(x)"
      ],
      "metadata": {
        "colab": {
          "base_uri": "https://localhost:8080/"
        },
        "id": "FIhcbS-vD9tl",
        "outputId": "9ff82fc2-4302-47cc-ec19-a1a12236c0ec"
      },
      "execution_count": null,
      "outputs": [
        {
          "output_type": "stream",
          "name": "stdout",
          "text": [
            "   Country        Age        Salary\n",
            "0   France  44.000000  72000.000000\n",
            "1    Spain  27.000000  48000.000000\n",
            "2  Germany  30.000000  54000.000000\n",
            "3    Spain  38.000000  61000.000000\n",
            "4  Germany  40.000000  63777.777778\n",
            "5   France  35.000000  58000.000000\n",
            "6    Spain  38.777778  52000.000000\n",
            "7   France  48.000000  79000.000000\n",
            "8  Germany  50.000000  83000.000000\n",
            "9   France  37.000000  67000.000000\n"
          ]
        }
      ]
    },
    {
      "cell_type": "code",
      "source": [
        "from sklearn.compose import ColumnTransformer\n",
        "from sklearn.preprocessing import OneHotEncoder\n",
        "ct = ColumnTransformer(transformers=[('encoder', OneHotEncoder(),[0])], remainder='passthrough')\n",
        "x = np.array(ct.fit_transform(x))"
      ],
      "metadata": {
        "id": "Ut9sD7ssERka"
      },
      "execution_count": null,
      "outputs": []
    },
    {
      "cell_type": "code",
      "source": [
        "print(x)"
      ],
      "metadata": {
        "colab": {
          "base_uri": "https://localhost:8080/"
        },
        "id": "sv_D-76EFDx5",
        "outputId": "a731cf46-44a9-48b5-93e7-a26f137ab881"
      },
      "execution_count": null,
      "outputs": [
        {
          "output_type": "stream",
          "name": "stdout",
          "text": [
            "[[0.00000000e+00 1.00000000e+00 0.00000000e+00 0.00000000e+00\n",
            "  4.40000000e+01 7.20000000e+04]\n",
            " [1.00000000e+00 0.00000000e+00 0.00000000e+00 1.00000000e+00\n",
            "  2.70000000e+01 4.80000000e+04]\n",
            " [1.00000000e+00 0.00000000e+00 1.00000000e+00 0.00000000e+00\n",
            "  3.00000000e+01 5.40000000e+04]\n",
            " [1.00000000e+00 0.00000000e+00 0.00000000e+00 1.00000000e+00\n",
            "  3.80000000e+01 6.10000000e+04]\n",
            " [1.00000000e+00 0.00000000e+00 1.00000000e+00 0.00000000e+00\n",
            "  4.00000000e+01 6.37777778e+04]\n",
            " [0.00000000e+00 1.00000000e+00 0.00000000e+00 0.00000000e+00\n",
            "  3.50000000e+01 5.80000000e+04]\n",
            " [1.00000000e+00 0.00000000e+00 0.00000000e+00 1.00000000e+00\n",
            "  3.87777778e+01 5.20000000e+04]\n",
            " [0.00000000e+00 1.00000000e+00 0.00000000e+00 0.00000000e+00\n",
            "  4.80000000e+01 7.90000000e+04]\n",
            " [1.00000000e+00 0.00000000e+00 1.00000000e+00 0.00000000e+00\n",
            "  5.00000000e+01 8.30000000e+04]\n",
            " [0.00000000e+00 1.00000000e+00 0.00000000e+00 0.00000000e+00\n",
            "  3.70000000e+01 6.70000000e+04]]\n"
          ]
        }
      ]
    },
    {
      "cell_type": "code",
      "source": [
        "from sklearn.preprocessing import LabelEncoder\n",
        "le = LabelEncoder()\n",
        "y = le.fit_transform(y)"
      ],
      "metadata": {
        "id": "35H_6Bg6FcQ4"
      },
      "execution_count": null,
      "outputs": []
    },
    {
      "cell_type": "code",
      "source": [
        "print(y)"
      ],
      "metadata": {
        "colab": {
          "base_uri": "https://localhost:8080/"
        },
        "id": "XvVjB31MFyXJ",
        "outputId": "95a281fe-63cc-4dd9-e926-c363314ca40b"
      },
      "execution_count": null,
      "outputs": [
        {
          "output_type": "stream",
          "name": "stdout",
          "text": [
            "[0 1 0 0 1 1 0 1 0 1]\n"
          ]
        }
      ]
    },
    {
      "cell_type": "code",
      "source": [
        "from sklearn.model_selection import train_test_split\n",
        "x_train, x_test, y_train, y_test = train_test_split(x , y ,test_size = 0.2, random_state = 1)"
      ],
      "metadata": {
        "id": "OCFc83u9F5E2"
      },
      "execution_count": null,
      "outputs": []
    },
    {
      "cell_type": "code",
      "source": [
        "print(x_train)"
      ],
      "metadata": {
        "colab": {
          "base_uri": "https://localhost:8080/"
        },
        "id": "Fn0QZp3fGYcX",
        "outputId": "bf322465-c05e-487f-bc9a-2fc485e481e3"
      },
      "execution_count": null,
      "outputs": [
        {
          "output_type": "stream",
          "name": "stdout",
          "text": [
            "[[1.00000000e+00 0.00000000e+00 0.00000000e+00 1.00000000e+00\n",
            "  3.87777778e+01 5.20000000e+04]\n",
            " [1.00000000e+00 0.00000000e+00 1.00000000e+00 0.00000000e+00\n",
            "  4.00000000e+01 6.37777778e+04]\n",
            " [0.00000000e+00 1.00000000e+00 0.00000000e+00 0.00000000e+00\n",
            "  4.40000000e+01 7.20000000e+04]\n",
            " [1.00000000e+00 0.00000000e+00 0.00000000e+00 1.00000000e+00\n",
            "  3.80000000e+01 6.10000000e+04]\n",
            " [1.00000000e+00 0.00000000e+00 0.00000000e+00 1.00000000e+00\n",
            "  2.70000000e+01 4.80000000e+04]\n",
            " [0.00000000e+00 1.00000000e+00 0.00000000e+00 0.00000000e+00\n",
            "  4.80000000e+01 7.90000000e+04]\n",
            " [1.00000000e+00 0.00000000e+00 1.00000000e+00 0.00000000e+00\n",
            "  5.00000000e+01 8.30000000e+04]\n",
            " [0.00000000e+00 1.00000000e+00 0.00000000e+00 0.00000000e+00\n",
            "  3.50000000e+01 5.80000000e+04]]\n"
          ]
        }
      ]
    },
    {
      "cell_type": "code",
      "source": [
        "print(x_test)"
      ],
      "metadata": {
        "colab": {
          "base_uri": "https://localhost:8080/"
        },
        "id": "5J_a42HIGgyj",
        "outputId": "de8c8412-0a5f-4e3b-9226-0ee53991a502"
      },
      "execution_count": null,
      "outputs": [
        {
          "output_type": "stream",
          "name": "stdout",
          "text": [
            "[[1.0e+00 0.0e+00 1.0e+00 0.0e+00 3.0e+01 5.4e+04]\n",
            " [0.0e+00 1.0e+00 0.0e+00 0.0e+00 3.7e+01 6.7e+04]]\n"
          ]
        }
      ]
    },
    {
      "cell_type": "code",
      "source": [
        "print(y_train)"
      ],
      "metadata": {
        "colab": {
          "base_uri": "https://localhost:8080/"
        },
        "id": "n1GMnpkeGjHh",
        "outputId": "a8cade3e-cd27-481d-84ec-d9f51f077d44"
      },
      "execution_count": null,
      "outputs": [
        {
          "output_type": "stream",
          "name": "stdout",
          "text": [
            "[0 1 0 0 1 1 0 1]\n"
          ]
        }
      ]
    },
    {
      "cell_type": "code",
      "source": [
        "print(y_test)"
      ],
      "metadata": {
        "colab": {
          "base_uri": "https://localhost:8080/"
        },
        "id": "ZmwG9pZPGpQJ",
        "outputId": "ac698bb5-db93-4f3b-b7c3-c11e700189cd"
      },
      "execution_count": null,
      "outputs": [
        {
          "output_type": "stream",
          "name": "stdout",
          "text": [
            "[0 1]\n"
          ]
        }
      ]
    },
    {
      "cell_type": "code",
      "source": [
        "from sklearn.preprocessing import StandardScaler\n",
        "sc = StandardScaler()\n",
        "x_train[:, 3:] = sc.fit_transform(x_train[:, 3:])\n",
        "x_test[:, 3:] = sc.transform(x_test[:, 3:])"
      ],
      "metadata": {
        "id": "YiNNFE8iGumb"
      },
      "execution_count": null,
      "outputs": []
    },
    {
      "cell_type": "code",
      "source": [
        "print(x_train)"
      ],
      "metadata": {
        "colab": {
          "base_uri": "https://localhost:8080/"
        },
        "id": "UE9rtZYZGubs",
        "outputId": "778cb123-2749-48c5-dd8c-58c5bf11e4e3"
      },
      "execution_count": null,
      "outputs": [
        {
          "output_type": "stream",
          "name": "stdout",
          "text": [
            "[[ 1.          0.          0.          1.29099445 -0.19159184 -1.07812594]\n",
            " [ 1.          0.          1.         -0.77459667 -0.01411729 -0.07013168]\n",
            " [ 0.          1.          0.         -0.77459667  0.56670851  0.63356243]\n",
            " [ 1.          0.          0.          1.29099445 -0.30453019 -0.30786617]\n",
            " [ 1.          0.          0.          1.29099445 -1.90180114 -1.42046362]\n",
            " [ 0.          1.          0.         -0.77459667  1.14753431  1.23265336]\n",
            " [ 1.          0.          1.         -0.77459667  1.43794721  1.57499104]\n",
            " [ 0.          1.          0.         -0.77459667 -0.74014954 -0.56461943]]\n"
          ]
        }
      ]
    },
    {
      "cell_type": "code",
      "source": [
        "print(x_test)"
      ],
      "metadata": {
        "colab": {
          "base_uri": "https://localhost:8080/"
        },
        "id": "3uxmIE_sGuNg",
        "outputId": "469060af-40c3-47cc-de9b-a6ba2a63b778"
      },
      "execution_count": null,
      "outputs": [
        {
          "output_type": "stream",
          "name": "stdout",
          "text": [
            "[[ 1.          0.          1.         -0.77459667 -1.46618179 -0.9069571 ]\n",
            " [ 0.          1.          0.         -0.77459667 -0.44973664  0.20564034]]\n"
          ]
        }
      ]
    }
  ]
}